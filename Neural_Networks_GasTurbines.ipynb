{
 "cells": [
  {
   "cell_type": "code",
   "execution_count": 1,
   "id": "e7300894",
   "metadata": {},
   "outputs": [],
   "source": [
    "import pandas as pd\n",
    "import numpy as np\n",
    "from sklearn.model_selection import train_test_split\n",
    "from sklearn.preprocessing import StandardScaler\n",
    "from sklearn.metrics import mean_squared_error, r2_score\n",
    "from tensorflow.keras.models import Sequential\n",
    "from tensorflow.keras.layers import Dense"
   ]
  },
  {
   "cell_type": "code",
   "execution_count": 2,
   "id": "ff54ad38",
   "metadata": {},
   "outputs": [],
   "source": [
    "# Load the dataset\n",
    "df = pd.read_csv('/Users/yeshwanthsatyadev/Desktop/gas_turbines.csv')"
   ]
  },
  {
   "cell_type": "code",
   "execution_count": 4,
   "id": "3bbcd757",
   "metadata": {},
   "outputs": [
    {
     "name": "stdout",
     "output_type": "stream",
     "text": [
      "Index(['AT', 'AP', 'AH', 'AFDP', 'GTEP', 'TIT', 'TAT', 'TEY', 'CDP', 'CO',\n",
      "       'NOX'],\n",
      "      dtype='object')\n"
     ]
    }
   ],
   "source": [
    "print(df.columns)\n"
   ]
  },
  {
   "cell_type": "code",
   "execution_count": 5,
   "id": "a78389c9",
   "metadata": {},
   "outputs": [],
   "source": [
    "# Select features and target variable\n",
    "features = df[['AT', 'AP', 'AH', 'AFDP', 'GTEP', 'TIT', 'TAT', 'CDP', 'CO', 'NOX']]\n",
    "target = df['TEY']\n"
   ]
  },
  {
   "cell_type": "code",
   "execution_count": 6,
   "id": "a57afddb",
   "metadata": {},
   "outputs": [],
   "source": [
    "# Train-test split\n",
    "X_train, X_test, y_train, y_test = train_test_split(features, target, test_size=0.2, random_state=42)"
   ]
  },
  {
   "cell_type": "code",
   "execution_count": 7,
   "id": "641e9c46",
   "metadata": {},
   "outputs": [],
   "source": [
    "# Standardize features\n",
    "scaler = StandardScaler()\n",
    "X_train_scaled = scaler.fit_transform(X_train)\n",
    "X_test_scaled = scaler.transform(X_test)"
   ]
  },
  {
   "cell_type": "code",
   "execution_count": 8,
   "id": "450f99a2",
   "metadata": {},
   "outputs": [],
   "source": [
    "# Build a neural network model\n",
    "model = Sequential()\n",
    "model.add(Dense(64, input_dim=X_train_scaled.shape[1], activation='relu'))\n",
    "model.add(Dense(32, activation='relu'))\n",
    "model.add(Dense(1, activation='linear'))"
   ]
  },
  {
   "cell_type": "code",
   "execution_count": 9,
   "id": "4f248757",
   "metadata": {},
   "outputs": [],
   "source": [
    "# Compile the model\n",
    "model.compile(optimizer='adam', loss='mean_squared_error')"
   ]
  },
  {
   "cell_type": "code",
   "execution_count": 10,
   "id": "4df1fe68",
   "metadata": {},
   "outputs": [
    {
     "name": "stdout",
     "output_type": "stream",
     "text": [
      "Epoch 1/50\n",
      "376/376 [==============================] - 0s 612us/step - loss: 7875.9951 - val_loss: 492.8828\n",
      "Epoch 2/50\n",
      "376/376 [==============================] - 0s 493us/step - loss: 295.4111 - val_loss: 205.7085\n",
      "Epoch 3/50\n",
      "376/376 [==============================] - 0s 539us/step - loss: 159.5257 - val_loss: 130.1714\n",
      "Epoch 4/50\n",
      "376/376 [==============================] - 0s 517us/step - loss: 105.0866 - val_loss: 90.0194\n",
      "Epoch 5/50\n",
      "376/376 [==============================] - 0s 500us/step - loss: 72.8868 - val_loss: 64.5134\n",
      "Epoch 6/50\n",
      "376/376 [==============================] - 0s 489us/step - loss: 51.6923 - val_loss: 45.4170\n",
      "Epoch 7/50\n",
      "376/376 [==============================] - 0s 492us/step - loss: 35.8495 - val_loss: 30.9005\n",
      "Epoch 8/50\n",
      "376/376 [==============================] - 0s 488us/step - loss: 24.4560 - val_loss: 20.8051\n",
      "Epoch 9/50\n",
      "376/376 [==============================] - 0s 496us/step - loss: 16.1473 - val_loss: 13.9251\n",
      "Epoch 10/50\n",
      "376/376 [==============================] - 0s 501us/step - loss: 10.7114 - val_loss: 9.3100\n",
      "Epoch 11/50\n",
      "376/376 [==============================] - 0s 506us/step - loss: 6.9958 - val_loss: 6.1054\n",
      "Epoch 12/50\n",
      "376/376 [==============================] - 0s 482us/step - loss: 4.7945 - val_loss: 4.3691\n",
      "Epoch 13/50\n",
      "376/376 [==============================] - 0s 504us/step - loss: 3.3559 - val_loss: 2.9774\n",
      "Epoch 14/50\n",
      "376/376 [==============================] - 0s 479us/step - loss: 2.3328 - val_loss: 2.2608\n",
      "Epoch 15/50\n",
      "376/376 [==============================] - 0s 462us/step - loss: 1.7293 - val_loss: 1.5598\n",
      "Epoch 16/50\n",
      "376/376 [==============================] - 0s 447us/step - loss: 1.3317 - val_loss: 1.2496\n",
      "Epoch 17/50\n",
      "376/376 [==============================] - 0s 447us/step - loss: 1.0707 - val_loss: 1.0135\n",
      "Epoch 18/50\n",
      "376/376 [==============================] - 0s 446us/step - loss: 0.9096 - val_loss: 0.8951\n",
      "Epoch 19/50\n",
      "376/376 [==============================] - 0s 453us/step - loss: 0.7902 - val_loss: 0.7624\n",
      "Epoch 20/50\n",
      "376/376 [==============================] - 0s 449us/step - loss: 0.7712 - val_loss: 0.6834\n",
      "Epoch 21/50\n",
      "376/376 [==============================] - 0s 451us/step - loss: 0.6661 - val_loss: 0.7898\n",
      "Epoch 22/50\n",
      "376/376 [==============================] - 0s 451us/step - loss: 0.6155 - val_loss: 0.6081\n",
      "Epoch 23/50\n",
      "376/376 [==============================] - 0s 452us/step - loss: 0.6100 - val_loss: 0.5227\n",
      "Epoch 24/50\n",
      "376/376 [==============================] - 0s 450us/step - loss: 0.5901 - val_loss: 0.5481\n",
      "Epoch 25/50\n",
      "376/376 [==============================] - 0s 454us/step - loss: 0.5695 - val_loss: 0.5687\n",
      "Epoch 26/50\n",
      "376/376 [==============================] - 0s 457us/step - loss: 0.5779 - val_loss: 0.6399\n",
      "Epoch 27/50\n",
      "376/376 [==============================] - 0s 453us/step - loss: 0.5270 - val_loss: 0.4472\n",
      "Epoch 28/50\n",
      "376/376 [==============================] - 0s 449us/step - loss: 0.5391 - val_loss: 0.4388\n",
      "Epoch 29/50\n",
      "376/376 [==============================] - 0s 449us/step - loss: 0.5438 - val_loss: 0.4598\n",
      "Epoch 30/50\n",
      "376/376 [==============================] - 0s 461us/step - loss: 0.4945 - val_loss: 0.4137\n",
      "Epoch 31/50\n",
      "376/376 [==============================] - 0s 446us/step - loss: 0.4999 - val_loss: 0.4869\n",
      "Epoch 32/50\n",
      "376/376 [==============================] - 0s 453us/step - loss: 0.4932 - val_loss: 0.4849\n",
      "Epoch 33/50\n",
      "376/376 [==============================] - 0s 450us/step - loss: 0.4727 - val_loss: 0.4942\n",
      "Epoch 34/50\n",
      "376/376 [==============================] - 0s 451us/step - loss: 0.4964 - val_loss: 0.4197\n",
      "Epoch 35/50\n",
      "376/376 [==============================] - 0s 450us/step - loss: 0.4775 - val_loss: 0.4733\n",
      "Epoch 36/50\n",
      "376/376 [==============================] - 0s 455us/step - loss: 0.4797 - val_loss: 0.4615\n",
      "Epoch 37/50\n",
      "376/376 [==============================] - 0s 444us/step - loss: 0.4754 - val_loss: 0.3720\n",
      "Epoch 38/50\n",
      "376/376 [==============================] - 0s 448us/step - loss: 0.4778 - val_loss: 0.4665\n",
      "Epoch 39/50\n",
      "376/376 [==============================] - 0s 455us/step - loss: 0.4692 - val_loss: 0.4335\n",
      "Epoch 40/50\n",
      "376/376 [==============================] - 0s 458us/step - loss: 0.4425 - val_loss: 0.6059\n",
      "Epoch 41/50\n",
      "376/376 [==============================] - 0s 454us/step - loss: 0.4453 - val_loss: 0.3768\n",
      "Epoch 42/50\n",
      "376/376 [==============================] - 0s 449us/step - loss: 0.4411 - val_loss: 0.4015\n",
      "Epoch 43/50\n",
      "376/376 [==============================] - 0s 450us/step - loss: 0.4800 - val_loss: 0.6240\n",
      "Epoch 44/50\n",
      "376/376 [==============================] - 0s 458us/step - loss: 0.4952 - val_loss: 0.4809\n",
      "Epoch 45/50\n",
      "376/376 [==============================] - 0s 450us/step - loss: 0.4568 - val_loss: 0.4455\n",
      "Epoch 46/50\n",
      "376/376 [==============================] - 0s 455us/step - loss: 0.4614 - val_loss: 0.3900\n",
      "Epoch 47/50\n",
      "376/376 [==============================] - 0s 451us/step - loss: 0.4470 - val_loss: 0.3733\n",
      "Epoch 48/50\n",
      "376/376 [==============================] - 0s 887us/step - loss: 0.4302 - val_loss: 0.3528\n",
      "Epoch 49/50\n",
      "376/376 [==============================] - 0s 463us/step - loss: 0.4550 - val_loss: 0.4423\n",
      "Epoch 50/50\n",
      "376/376 [==============================] - 0s 449us/step - loss: 0.4328 - val_loss: 0.4392\n",
      "94/94 [==============================] - 0s 255us/step\n"
     ]
    }
   ],
   "source": [
    "# Train the model\n",
    "model.fit(X_train_scaled, y_train, epochs=50, batch_size=32, validation_data=(X_test_scaled, y_test), verbose=1)\n",
    "\n",
    "# Evaluate the model\n",
    "y_pred = model.predict(X_test_scaled)\n",
    "mse = mean_squared_error(y_test, y_pred)\n",
    "r2 = r2_score(y_test, y_pred)\n"
   ]
  },
  {
   "cell_type": "code",
   "execution_count": 11,
   "id": "37413402",
   "metadata": {},
   "outputs": [
    {
     "name": "stdout",
     "output_type": "stream",
     "text": [
      "Mean Squared Error: 0.43918411809817653\n",
      "R-squared: 0.998245997090079\n"
     ]
    }
   ],
   "source": [
    "print(f'Mean Squared Error: {mse}')\n",
    "print(f'R-squared: {r2}')"
   ]
  },
  {
   "cell_type": "code",
   "execution_count": 12,
   "id": "4997029d",
   "metadata": {},
   "outputs": [
    {
     "name": "stdout",
     "output_type": "stream",
     "text": [
      "1/1 [==============================] - 0s 21ms/step\n",
      "Predicted TEY: 144.01194763183594\n"
     ]
    },
    {
     "name": "stderr",
     "output_type": "stream",
     "text": [
      "/Users/yeshwanthsatyadev/anaconda3/lib/python3.11/site-packages/sklearn/base.py:493: UserWarning: X does not have valid feature names, but StandardScaler was fitted with feature names\n",
      "  warnings.warn(\n"
     ]
    }
   ],
   "source": [
    "# Make predictions for new data\n",
    "new_data = np.array([[20.0, 1015.0, 80.0, 4.0, 30.0, 1100.0, 550.0, 13.0, 3.0, 70.0]])\n",
    "new_data_scaled = scaler.transform(new_data)\n",
    "prediction = model.predict(new_data_scaled)\n",
    "\n",
    "print(f'Predicted TEY: {prediction[0][0]}')"
   ]
  },
  {
   "cell_type": "code",
   "execution_count": null,
   "id": "ce7a48fb",
   "metadata": {},
   "outputs": [],
   "source": []
  }
 ],
 "metadata": {
  "kernelspec": {
   "display_name": "Python 3 (ipykernel)",
   "language": "python",
   "name": "python3"
  },
  "language_info": {
   "codemirror_mode": {
    "name": "ipython",
    "version": 3
   },
   "file_extension": ".py",
   "mimetype": "text/x-python",
   "name": "python",
   "nbconvert_exporter": "python",
   "pygments_lexer": "ipython3",
   "version": "3.11.4"
  }
 },
 "nbformat": 4,
 "nbformat_minor": 5
}
