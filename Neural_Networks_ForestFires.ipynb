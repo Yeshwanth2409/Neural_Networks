{
 "cells": [
  {
   "cell_type": "code",
   "execution_count": 2,
   "id": "8fe8e83a",
   "metadata": {},
   "outputs": [],
   "source": [
    "import pandas as pd\n",
    "import numpy as np\n",
    "from sklearn.model_selection import train_test_split\n",
    "from sklearn.preprocessing import LabelEncoder, StandardScaler\n",
    "from sklearn.metrics import mean_squared_error\n",
    "from tensorflow.keras.models import Sequential\n",
    "from tensorflow.keras.layers import Dense"
   ]
  },
  {
   "cell_type": "code",
   "execution_count": 4,
   "id": "3a778f5a",
   "metadata": {},
   "outputs": [],
   "source": [
    "# Load data\n",
    "data = pd.read_csv('/Users/yeshwanthsatyadev/Desktop/forestfires.csv')\n",
    "\n",
    "# Convert categorical variables to numerical\n",
    "label_encoder = LabelEncoder()\n",
    "data['month'] = label_encoder.fit_transform(data['month'])\n",
    "data['day'] = label_encoder.fit_transform(data['day'])\n",
    "data['size_category'] = label_encoder.fit_transform(data['size_category'])\n",
    "\n",
    "# Split the data into features and target\n",
    "X = data.drop(['area', 'size_category'], axis=1)\n",
    "y = data['area']\n",
    "\n",
    "# Split the data into training and testing sets\n",
    "X_train, X_test, y_train, y_test = train_test_split(X, y, test_size=0.2, random_state=42)\n"
   ]
  },
  {
   "cell_type": "code",
   "execution_count": 5,
   "id": "8956f7e9",
   "metadata": {},
   "outputs": [],
   "source": [
    "scaler = StandardScaler()\n",
    "X_train = scaler.fit_transform(X_train)\n",
    "X_test = scaler.transform(X_test)\n"
   ]
  },
  {
   "cell_type": "code",
   "execution_count": 6,
   "id": "759945c2",
   "metadata": {},
   "outputs": [],
   "source": [
    "model = Sequential()\n",
    "model.add(Dense(64, input_dim=X_train.shape[1], activation='relu'))\n",
    "model.add(Dense(32, activation='relu'))\n",
    "model.add(Dense(1, activation='linear'))\n",
    "\n",
    "model.compile(optimizer='adam', loss='mean_squared_error')\n"
   ]
  },
  {
   "cell_type": "code",
   "execution_count": 7,
   "id": "bcaf9ccd",
   "metadata": {},
   "outputs": [
    {
     "name": "stdout",
     "output_type": "stream",
     "text": [
      "Epoch 1/50\n",
      "11/11 [==============================] - 0s 6ms/step - loss: 2592.9885 - val_loss: 629.2608\n",
      "Epoch 2/50\n",
      "11/11 [==============================] - 0s 2ms/step - loss: 2576.3477 - val_loss: 622.8419\n",
      "Epoch 3/50\n",
      "11/11 [==============================] - 0s 2ms/step - loss: 2563.3879 - val_loss: 616.5760\n",
      "Epoch 4/50\n",
      "11/11 [==============================] - 0s 2ms/step - loss: 2551.2546 - val_loss: 611.2508\n",
      "Epoch 5/50\n",
      "11/11 [==============================] - 0s 1ms/step - loss: 2536.7844 - val_loss: 607.2682\n",
      "Epoch 6/50\n",
      "11/11 [==============================] - 0s 2ms/step - loss: 2524.8352 - val_loss: 603.0240\n",
      "Epoch 7/50\n",
      "11/11 [==============================] - 0s 1ms/step - loss: 2508.6519 - val_loss: 600.0396\n",
      "Epoch 8/50\n",
      "11/11 [==============================] - 0s 1ms/step - loss: 2492.8425 - val_loss: 598.0767\n",
      "Epoch 9/50\n",
      "11/11 [==============================] - 0s 2ms/step - loss: 2477.8691 - val_loss: 596.1674\n",
      "Epoch 10/50\n",
      "11/11 [==============================] - 0s 2ms/step - loss: 2459.9084 - val_loss: 596.9869\n",
      "Epoch 11/50\n",
      "11/11 [==============================] - 0s 2ms/step - loss: 2445.9453 - val_loss: 598.8077\n",
      "Epoch 12/50\n",
      "11/11 [==============================] - 0s 2ms/step - loss: 2432.7773 - val_loss: 603.7102\n",
      "Epoch 13/50\n",
      "11/11 [==============================] - 0s 2ms/step - loss: 2422.6938 - val_loss: 608.3226\n",
      "Epoch 14/50\n",
      "11/11 [==============================] - 0s 2ms/step - loss: 2411.4446 - val_loss: 612.9271\n",
      "Epoch 15/50\n",
      "11/11 [==============================] - 0s 2ms/step - loss: 2402.4377 - val_loss: 618.1904\n",
      "Epoch 16/50\n",
      "11/11 [==============================] - 0s 1ms/step - loss: 2395.1069 - val_loss: 622.5676\n",
      "Epoch 17/50\n",
      "11/11 [==============================] - 0s 1ms/step - loss: 2387.9407 - val_loss: 625.1300\n",
      "Epoch 18/50\n",
      "11/11 [==============================] - 0s 2ms/step - loss: 2384.0449 - val_loss: 631.8140\n",
      "Epoch 19/50\n",
      "11/11 [==============================] - 0s 1ms/step - loss: 2373.3501 - val_loss: 637.9701\n",
      "Epoch 20/50\n",
      "11/11 [==============================] - 0s 1ms/step - loss: 2368.6008 - val_loss: 643.3373\n",
      "Epoch 21/50\n",
      "11/11 [==============================] - 0s 2ms/step - loss: 2362.0947 - val_loss: 647.4057\n",
      "Epoch 22/50\n",
      "11/11 [==============================] - 0s 1ms/step - loss: 2358.1011 - val_loss: 653.9911\n",
      "Epoch 23/50\n",
      "11/11 [==============================] - 0s 1ms/step - loss: 2352.3872 - val_loss: 660.8508\n",
      "Epoch 24/50\n",
      "11/11 [==============================] - 0s 1ms/step - loss: 2346.2612 - val_loss: 665.2220\n",
      "Epoch 25/50\n",
      "11/11 [==============================] - 0s 2ms/step - loss: 2342.5833 - val_loss: 668.2603\n",
      "Epoch 26/50\n",
      "11/11 [==============================] - 0s 2ms/step - loss: 2338.1753 - val_loss: 669.3860\n",
      "Epoch 27/50\n",
      "11/11 [==============================] - 0s 2ms/step - loss: 2335.8757 - val_loss: 667.2197\n",
      "Epoch 28/50\n",
      "11/11 [==============================] - 0s 2ms/step - loss: 2331.9578 - val_loss: 674.5536\n",
      "Epoch 29/50\n",
      "11/11 [==============================] - 0s 2ms/step - loss: 2325.5984 - val_loss: 677.2462\n",
      "Epoch 30/50\n",
      "11/11 [==============================] - 0s 1ms/step - loss: 2321.6270 - val_loss: 675.1793\n",
      "Epoch 31/50\n",
      "11/11 [==============================] - 0s 1ms/step - loss: 2317.7727 - val_loss: 678.6796\n",
      "Epoch 32/50\n",
      "11/11 [==============================] - 0s 1ms/step - loss: 2314.8037 - val_loss: 685.4916\n",
      "Epoch 33/50\n",
      "11/11 [==============================] - 0s 1ms/step - loss: 2307.2090 - val_loss: 683.6619\n",
      "Epoch 34/50\n",
      "11/11 [==============================] - 0s 1ms/step - loss: 2303.2546 - val_loss: 684.8711\n",
      "Epoch 35/50\n",
      "11/11 [==============================] - 0s 2ms/step - loss: 2296.9653 - val_loss: 688.7201\n",
      "Epoch 36/50\n",
      "11/11 [==============================] - 0s 2ms/step - loss: 2291.3247 - val_loss: 696.9304\n",
      "Epoch 37/50\n",
      "11/11 [==============================] - 0s 2ms/step - loss: 2286.0149 - val_loss: 695.9518\n",
      "Epoch 38/50\n",
      "11/11 [==============================] - 0s 2ms/step - loss: 2281.6553 - val_loss: 702.7727\n",
      "Epoch 39/50\n",
      "11/11 [==============================] - 0s 2ms/step - loss: 2272.8267 - val_loss: 705.8993\n",
      "Epoch 40/50\n",
      "11/11 [==============================] - 0s 2ms/step - loss: 2264.5771 - val_loss: 711.3610\n",
      "Epoch 41/50\n",
      "11/11 [==============================] - 0s 2ms/step - loss: 2260.1064 - val_loss: 713.9584\n",
      "Epoch 42/50\n",
      "11/11 [==============================] - 0s 2ms/step - loss: 2254.2275 - val_loss: 723.2641\n",
      "Epoch 43/50\n",
      "11/11 [==============================] - 0s 2ms/step - loss: 2246.3535 - val_loss: 720.5796\n",
      "Epoch 44/50\n",
      "11/11 [==============================] - 0s 2ms/step - loss: 2234.9448 - val_loss: 725.4412\n",
      "Epoch 45/50\n",
      "11/11 [==============================] - 0s 2ms/step - loss: 2227.9805 - val_loss: 741.7364\n",
      "Epoch 46/50\n",
      "11/11 [==============================] - 0s 2ms/step - loss: 2221.3936 - val_loss: 735.9497\n",
      "Epoch 47/50\n",
      "11/11 [==============================] - 0s 2ms/step - loss: 2211.2080 - val_loss: 739.4460\n",
      "Epoch 48/50\n",
      "11/11 [==============================] - 0s 2ms/step - loss: 2206.5852 - val_loss: 755.8160\n",
      "Epoch 49/50\n",
      "11/11 [==============================] - 0s 2ms/step - loss: 2193.1973 - val_loss: 751.4458\n",
      "Epoch 50/50\n",
      "11/11 [==============================] - 0s 2ms/step - loss: 2186.1514 - val_loss: 755.4458\n"
     ]
    },
    {
     "data": {
      "text/plain": [
       "<keras.src.callbacks.History at 0x284717890>"
      ]
     },
     "execution_count": 7,
     "metadata": {},
     "output_type": "execute_result"
    }
   ],
   "source": [
    "model.fit(X_train, y_train, epochs=50, batch_size=32, validation_split=0.2, verbose=1)\n"
   ]
  },
  {
   "cell_type": "code",
   "execution_count": 8,
   "id": "51169c43",
   "metadata": {},
   "outputs": [
    {
     "name": "stdout",
     "output_type": "stream",
     "text": [
      "4/4 [==============================] - 0s 535us/step\n",
      "Mean Squared Error: 11603.769448828902\n"
     ]
    }
   ],
   "source": [
    "y_pred = model.predict(X_test)\n",
    "mse = mean_squared_error(y_test, y_pred)\n",
    "print(f'Mean Squared Error: {mse}')\n"
   ]
  },
  {
   "cell_type": "code",
   "execution_count": null,
   "id": "deacc42c",
   "metadata": {},
   "outputs": [],
   "source": []
  }
 ],
 "metadata": {
  "kernelspec": {
   "display_name": "Python 3 (ipykernel)",
   "language": "python",
   "name": "python3"
  },
  "language_info": {
   "codemirror_mode": {
    "name": "ipython",
    "version": 3
   },
   "file_extension": ".py",
   "mimetype": "text/x-python",
   "name": "python",
   "nbconvert_exporter": "python",
   "pygments_lexer": "ipython3",
   "version": "3.11.4"
  }
 },
 "nbformat": 4,
 "nbformat_minor": 5
}
